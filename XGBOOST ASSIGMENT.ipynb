{
 "cells": [
  {
   "cell_type": "code",
   "execution_count": 1,
   "metadata": {},
   "outputs": [],
   "source": [
    "# import the necessary library\n",
    "import numpy as np\n",
    "import pandas as pd\n",
    "import matplotlib.pyplot as plt\n",
    "import seaborn as sns"
   ]
  },
  {
   "cell_type": "code",
   "execution_count": 2,
   "metadata": {},
   "outputs": [],
   "source": [
    "import pandas as pd\n",
    "\n",
    "train_set = pd.read_csv('http://archive.ics.uci.edu/ml/machine-learning-databases/adult/adult.data', header = None,na_values=['?',' ?'])\n",
    "\n",
    "test_set = pd.read_csv('http://archive.ics.uci.edu/ml/machine-learning-databases/adult/adult.test' , skiprows = 1, header = None,na_values=['?',' ?'])\n",
    "\n",
    "\n",
    "col_labels = ['age','workclass','fnlwgt','education','education_num','marital_status','occupation','relationship','race','sex','capital_gain','capital_loss','hours_per_week','native_country','wage_class']\n",
    "train_set.columns = col_labels\n",
    "test_set.columns = col_labels"
   ]
  },
  {
   "cell_type": "code",
   "execution_count": 3,
   "metadata": {},
   "outputs": [],
   "source": [
    "# let's mearge train & test data set\n",
    "df = pd.concat([train_set,test_set],axis=0)"
   ]
  },
  {
   "cell_type": "code",
   "execution_count": 4,
   "metadata": {},
   "outputs": [
    {
     "name": "stdout",
     "output_type": "stream",
     "text": [
      "<class 'pandas.core.frame.DataFrame'>\n",
      "Int64Index: 48842 entries, 0 to 16280\n",
      "Data columns (total 15 columns):\n",
      " #   Column          Non-Null Count  Dtype \n",
      "---  ------          --------------  ----- \n",
      " 0   age             48842 non-null  int64 \n",
      " 1   workclass       46043 non-null  object\n",
      " 2   fnlwgt          48842 non-null  int64 \n",
      " 3   education       48842 non-null  object\n",
      " 4   education_num   48842 non-null  int64 \n",
      " 5   marital_status  48842 non-null  object\n",
      " 6   occupation      46033 non-null  object\n",
      " 7   relationship    48842 non-null  object\n",
      " 8   race            48842 non-null  object\n",
      " 9   sex             48842 non-null  object\n",
      " 10  capital_gain    48842 non-null  int64 \n",
      " 11  capital_loss    48842 non-null  int64 \n",
      " 12  hours_per_week  48842 non-null  int64 \n",
      " 13  native_country  47985 non-null  object\n",
      " 14  wage_class      48842 non-null  object\n",
      "dtypes: int64(6), object(9)\n",
      "memory usage: 6.0+ MB\n"
     ]
    }
   ],
   "source": [
    "df.info()"
   ]
  },
  {
   "cell_type": "code",
   "execution_count": 5,
   "metadata": {},
   "outputs": [
    {
     "name": "stdout",
     "output_type": "stream",
     "text": [
      "age                  0\n",
      "workclass         2799\n",
      "fnlwgt               0\n",
      "education            0\n",
      "education_num        0\n",
      "marital_status       0\n",
      "occupation        2809\n",
      "relationship         0\n",
      "race                 0\n",
      "sex                  0\n",
      "capital_gain         0\n",
      "capital_loss         0\n",
      "hours_per_week       0\n",
      "native_country     857\n",
      "wage_class           0\n",
      "dtype: int64\n"
     ]
    },
    {
     "data": {
      "text/plain": [
       "<matplotlib.axes._subplots.AxesSubplot at 0x20bad5f8040>"
      ]
     },
     "execution_count": 5,
     "metadata": {},
     "output_type": "execute_result"
    },
    {
     "data": {
      "image/png": "[encoded data removed]",
      "text/plain": [
       "<Figure size 720x360 with 2 Axes>"
      ]
     },
     "metadata": {
      "needs_background": "light"
     },
     "output_type": "display_data"
    }
   ],
   "source": [
    "# checking the null values\n",
    "print(df.isnull().sum())\n",
    "plt.figure(figsize=(10,5))\n",
    "sns.heatmap(df.isnull())"
   ]
  },
  {
   "cell_type": "code",
   "execution_count": 6,
   "metadata": {},
   "outputs": [],
   "source": [
    "# impute the missing values\n",
    "df['workclass'] = df['workclass'].fillna(df['workclass'].mode()[0])\n",
    "df['occupation'] = df['occupation'].fillna(df['occupation'].mode()[0])\n",
    "df['native_country'] = df['native_country'].fillna(df['native_country'].mode()[0])"
   ]
  },
  {
   "cell_type": "code",
   "execution_count": 7,
   "metadata": {},
   "outputs": [
    {
     "data": {
      "text/plain": [
       "age               0\n",
       "workclass         0\n",
       "fnlwgt            0\n",
       "education         0\n",
       "education_num     0\n",
       "marital_status    0\n",
       "occupation        0\n",
       "relationship      0\n",
       "race              0\n",
       "sex               0\n",
       "capital_gain      0\n",
       "capital_loss      0\n",
       "hours_per_week    0\n",
       "native_country    0\n",
       "wage_class        0\n",
       "dtype: int64"
      ]
     },
     "execution_count": 7,
     "metadata": {},
     "output_type": "execute_result"
    }
   ],
   "source": [
    "# again checking the null values\n",
    "df.isnull().sum()"
   ]
  },
  {
   "cell_type": "code",
   "execution_count": 8,
   "metadata": {},
   "outputs": [
    {
     "data": {
      "text/plain": [
       "age                int64\n",
       "workclass         object\n",
       "fnlwgt             int64\n",
       "education         object\n",
       "education_num      int64\n",
       "marital_status    object\n",
       "occupation        object\n",
       "relationship      object\n",
       "race              object\n",
       "sex               object\n",
       "capital_gain       int64\n",
       "capital_loss       int64\n",
       "hours_per_week     int64\n",
       "native_country    object\n",
       "wage_class        object\n",
       "dtype: object"
      ]
     },
     "execution_count": 8,
     "metadata": {},
     "output_type": "execute_result"
    }
   ],
   "source": [
    "df.dtypes"
   ]
  },
  {
   "cell_type": "markdown",
   "metadata": {},
   "source": [
    "## FEATURE ENGINEERING"
   ]
  },
  {
   "cell_type": "markdown",
   "metadata": {},
   "source": [
    "check the unique values"
   ]
  },
  {
   "cell_type": "code",
   "execution_count": 9,
   "metadata": {},
   "outputs": [
    {
     "data": {
      "text/plain": [
       "array([' State-gov', ' Self-emp-not-inc', ' Private', ' Federal-gov',\n",
       "       ' Local-gov', ' Self-emp-inc', ' Without-pay', ' Never-worked'],\n",
       "      dtype=object)"
      ]
     },
     "execution_count": 9,
     "metadata": {},
     "output_type": "execute_result"
    }
   ],
   "source": [
    "df['workclass'].unique()"
   ]
  },
  {
   "cell_type": "code",
   "execution_count": 10,
   "metadata": {},
   "outputs": [
    {
     "data": {
      "text/plain": [
       "array([' Bachelors', ' HS-grad', ' 11th', ' Masters', ' 9th',\n",
       "       ' Some-college', ' Assoc-acdm', ' Assoc-voc', ' 7th-8th',\n",
       "       ' Doctorate', ' Prof-school', ' 5th-6th', ' 10th', ' 1st-4th',\n",
       "       ' Preschool', ' 12th'], dtype=object)"
      ]
     },
     "execution_count": 10,
     "metadata": {},
     "output_type": "execute_result"
    }
   ],
   "source": [
    "df['education'].unique()"
   ]
  },
  {
   "cell_type": "code",
   "execution_count": 11,
   "metadata": {},
   "outputs": [
    {
     "data": {
      "text/plain": [
       "array([13,  9,  7, 14,  5, 10, 12, 11,  4, 16, 15,  3,  6,  2,  1,  8],\n",
       "      dtype=int64)"
      ]
     },
     "execution_count": 11,
     "metadata": {},
     "output_type": "execute_result"
    }
   ],
   "source": [
    "df['education_num'].unique()"
   ]
  },
  {
   "cell_type": "code",
   "execution_count": 12,
   "metadata": {},
   "outputs": [
    {
     "data": {
      "text/plain": [
       "array([' Never-married', ' Married-civ-spouse', ' Divorced',\n",
       "       ' Married-spouse-absent', ' Separated', ' Married-AF-spouse',\n",
       "       ' Widowed'], dtype=object)"
      ]
     },
     "execution_count": 12,
     "metadata": {},
     "output_type": "execute_result"
    }
   ],
   "source": [
    "df['marital_status'].unique()"
   ]
  },
  {
   "cell_type": "code",
   "execution_count": 13,
   "metadata": {},
   "outputs": [
    {
     "data": {
      "text/plain": [
       "array([' Adm-clerical', ' Exec-managerial', ' Handlers-cleaners',\n",
       "       ' Prof-specialty', ' Other-service', ' Sales', ' Craft-repair',\n",
       "       ' Transport-moving', ' Farming-fishing', ' Machine-op-inspct',\n",
       "       ' Tech-support', ' Protective-serv', ' Armed-Forces',\n",
       "       ' Priv-house-serv'], dtype=object)"
      ]
     },
     "execution_count": 13,
     "metadata": {},
     "output_type": "execute_result"
    }
   ],
   "source": [
    "df['occupation'].unique()"
   ]
  },
  {
   "cell_type": "code",
   "execution_count": 14,
   "metadata": {},
   "outputs": [
    {
     "data": {
      "text/plain": [
       "array([' Not-in-family', ' Husband', ' Wife', ' Own-child', ' Unmarried',\n",
       "       ' Other-relative'], dtype=object)"
      ]
     },
     "execution_count": 14,
     "metadata": {},
     "output_type": "execute_result"
    }
   ],
   "source": [
    "df['relationship'].unique()"
   ]
  },
  {
   "cell_type": "code",
   "execution_count": 15,
   "metadata": {},
   "outputs": [
    {
     "data": {
      "text/plain": [
       "array([' White', ' Black', ' Asian-Pac-Islander', ' Amer-Indian-Eskimo',\n",
       "       ' Other'], dtype=object)"
      ]
     },
     "execution_count": 15,
     "metadata": {},
     "output_type": "execute_result"
    }
   ],
   "source": [
    "df['race'].unique()"
   ]
  },
  {
   "cell_type": "code",
   "execution_count": 16,
   "metadata": {},
   "outputs": [
    {
     "data": {
      "text/plain": [
       "array([' Male', ' Female'], dtype=object)"
      ]
     },
     "execution_count": 16,
     "metadata": {},
     "output_type": "execute_result"
    }
   ],
   "source": [
    "df['sex'].unique()"
   ]
  },
  {
   "cell_type": "code",
   "execution_count": 17,
   "metadata": {},
   "outputs": [
    {
     "data": {
      "text/plain": [
       "array([' United-States', ' Cuba', ' Jamaica', ' India', ' Mexico',\n",
       "       ' South', ' Puerto-Rico', ' Honduras', ' England', ' Canada',\n",
       "       ' Germany', ' Iran', ' Philippines', ' Italy', ' Poland',\n",
       "       ' Columbia', ' Cambodia', ' Thailand', ' Ecuador', ' Laos',\n",
       "       ' Taiwan', ' Haiti', ' Portugal', ' Dominican-Republic',\n",
       "       ' El-Salvador', ' France', ' Guatemala', ' China', ' Japan',\n",
       "       ' Yugoslavia', ' Peru', ' Outlying-US(Guam-USVI-etc)', ' Scotland',\n",
       "       ' Trinadad&Tobago', ' Greece', ' Nicaragua', ' Vietnam', ' Hong',\n",
       "       ' Ireland', ' Hungary', ' Holand-Netherlands'], dtype=object)"
      ]
     },
     "execution_count": 17,
     "metadata": {},
     "output_type": "execute_result"
    }
   ],
   "source": [
    "df['native_country'].unique()"
   ]
  },
  {
   "cell_type": "code",
   "execution_count": 18,
   "metadata": {},
   "outputs": [
    {
     "data": {
      "text/plain": [
       "array([' <=50K', ' >50K', ' <=50K.', ' >50K.'], dtype=object)"
      ]
     },
     "execution_count": 18,
     "metadata": {},
     "output_type": "execute_result"
    }
   ],
   "source": [
    "df['wage_class'].unique()"
   ]
  },
  {
   "cell_type": "code",
   "execution_count": 19,
   "metadata": {},
   "outputs": [],
   "source": [
    "df['wage_class'] = df['wage_class'].replace(' <=50K.',' <=50K')\n",
    "df['wage_class'] = df['wage_class'].replace(' >50K.',' >50K')"
   ]
  },
  {
   "cell_type": "code",
   "execution_count": 20,
   "metadata": {},
   "outputs": [
    {
     "data": {
      "text/plain": [
       "array([' <=50K', ' >50K'], dtype=object)"
      ]
     },
     "execution_count": 20,
     "metadata": {},
     "output_type": "execute_result"
    }
   ],
   "source": [
    "df['wage_class'].unique()"
   ]
  },
  {
   "cell_type": "code",
   "execution_count": 21,
   "metadata": {},
   "outputs": [],
   "source": [
    "# ENCODING the categorical values\n",
    "from sklearn.preprocessing import LabelEncoder,StandardScaler"
   ]
  },
  {
   "cell_type": "code",
   "execution_count": 22,
   "metadata": {},
   "outputs": [],
   "source": [
    "df1 = pd.get_dummies(df['workclass'],prefix='workclass',prefix_sep='_',drop_first=True)\n",
    "df2 = pd.get_dummies(df['marital_status'],prefix='marital',prefix_sep='_',drop_first=True)\n",
    "df3 = pd.get_dummies(df['occupation'],prefix='occupation',prefix_sep='_',drop_first=True)\n",
    "df4 = pd.get_dummies(df['relationship'],prefix='relationship',prefix_sep='_',drop_first=True)\n",
    "df5 = pd.get_dummies(df['race'],prefix='race',prefix_sep='_',drop_first=True)\n",
    "df6 = pd.get_dummies(df['sex'],prefix='sex',prefix_sep='_',drop_first=True)\n",
    "df7 = pd.get_dummies(df['native_country'],prefix='native_country',prefix_sep='_',drop_first=True)\n",
    "df8 = pd.get_dummies(df['wage_class'],prefix='wage_class',prefix_sep='_',drop_first=True)"
   ]
  },
  {
   "cell_type": "code",
   "execution_count": 23,
   "metadata": {},
   "outputs": [],
   "source": [
    "df = pd.concat([df,df1,df2,df3,df4,df5,df6,df7,df8],axis=1)"
   ]
  },
  {
   "cell_type": "code",
   "execution_count": 24,
   "metadata": {},
   "outputs": [
    {
     "name": "stdout",
     "output_type": "stream",
     "text": [
      "<class 'pandas.core.frame.DataFrame'>\n",
      "Int64Index: 48842 entries, 0 to 16280\n",
      "Data columns (total 92 columns):\n",
      " #   Column                                      Non-Null Count  Dtype \n",
      "---  ------                                      --------------  ----- \n",
      " 0   age                                         48842 non-null  int64 \n",
      " 1   workclass                                   48842 non-null  object\n",
      " 2   fnlwgt                                      48842 non-null  int64 \n",
      " 3   education                                   48842 non-null  object\n",
      " 4   education_num                               48842 non-null  int64 \n",
      " 5   marital_status                              48842 non-null  object\n",
      " 6   occupation                                  48842 non-null  object\n",
      " 7   relationship                                48842 non-null  object\n",
      " 8   race                                        48842 non-null  object\n",
      " 9   sex                                         48842 non-null  object\n",
      " 10  capital_gain                                48842 non-null  int64 \n",
      " 11  capital_loss                                48842 non-null  int64 \n",
      " 12  hours_per_week                              48842 non-null  int64 \n",
      " 13  native_country                              48842 non-null  object\n",
      " 14  wage_class                                  48842 non-null  object\n",
      " 15  workclass_ Local-gov                        48842 non-null  uint8 \n",
      " 16  workclass_ Never-worked                     48842 non-null  uint8 \n",
      " 17  workclass_ Private                          48842 non-null  uint8 \n",
      " 18  workclass_ Self-emp-inc                     48842 non-null  uint8 \n",
      " 19  workclass_ Self-emp-not-inc                 48842 non-null  uint8 \n",
      " 20  workclass_ State-gov                        48842 non-null  uint8 \n",
      " 21  workclass_ Without-pay                      48842 non-null  uint8 \n",
      " 22  marital_ Married-AF-spouse                  48842 non-null  uint8 \n",
      " 23  marital_ Married-civ-spouse                 48842 non-null  uint8 \n",
      " 24  marital_ Married-spouse-absent              48842 non-null  uint8 \n",
      " 25  marital_ Never-married                      48842 non-null  uint8 \n",
      " 26  marital_ Separated                          48842 non-null  uint8 \n",
      " 27  marital_ Widowed                            48842 non-null  uint8 \n",
      " 28  occupation_ Armed-Forces                    48842 non-null  uint8 \n",
      " 29  occupation_ Craft-repair                    48842 non-null  uint8 \n",
      " 30  occupation_ Exec-managerial                 48842 non-null  uint8 \n",
      " 31  occupation_ Farming-fishing                 48842 non-null  uint8 \n",
      " 32  occupation_ Handlers-cleaners               48842 non-null  uint8 \n",
      " 33  occupation_ Machine-op-inspct               48842 non-null  uint8 \n",
      " 34  occupation_ Other-service                   48842 non-null  uint8 \n",
      " 35  occupation_ Priv-house-serv                 48842 non-null  uint8 \n",
      " 36  occupation_ Prof-specialty                  48842 non-null  uint8 \n",
      " 37  occupation_ Protective-serv                 48842 non-null  uint8 \n",
      " 38  occupation_ Sales                           48842 non-null  uint8 \n",
      " 39  occupation_ Tech-support                    48842 non-null  uint8 \n",
      " 40  occupation_ Transport-moving                48842 non-null  uint8 \n",
      " 41  relationship_ Not-in-family                 48842 non-null  uint8 \n",
      " 42  relationship_ Other-relative                48842 non-null  uint8 \n",
      " 43  relationship_ Own-child                     48842 non-null  uint8 \n",
      " 44  relationship_ Unmarried                     48842 non-null  uint8 \n",
      " 45  relationship_ Wife                          48842 non-null  uint8 \n",
      " 46  race_ Asian-Pac-Islander                    48842 non-null  uint8 \n",
      " 47  race_ Black                                 48842 non-null  uint8 \n",
      " 48  race_ Other                                 48842 non-null  uint8 \n",
      " 49  race_ White                                 48842 non-null  uint8 \n",
      " 50  sex_ Male                                   48842 non-null  uint8 \n",
      " 51  native_country_ Canada                      48842 non-null  uint8 \n",
      " 52  native_country_ China                       48842 non-null  uint8 \n",
      " 53  native_country_ Columbia                    48842 non-null  uint8 \n",
      " 54  native_country_ Cuba                        48842 non-null  uint8 \n",
      " 55  native_country_ Dominican-Republic          48842 non-null  uint8 \n",
      " 56  native_country_ Ecuador                     48842 non-null  uint8 \n",
      " 57  native_country_ El-Salvador                 48842 non-null  uint8 \n",
      " 58  native_country_ England                     48842 non-null  uint8 \n",
      " 59  native_country_ France                      48842 non-null  uint8 \n",
      " 60  native_country_ Germany                     48842 non-null  uint8 \n",
      " 61  native_country_ Greece                      48842 non-null  uint8 \n",
      " 62  native_country_ Guatemala                   48842 non-null  uint8 \n",
      " 63  native_country_ Haiti                       48842 non-null  uint8 \n",
      " 64  native_country_ Holand-Netherlands          48842 non-null  uint8 \n",
      " 65  native_country_ Honduras                    48842 non-null  uint8 \n",
      " 66  native_country_ Hong                        48842 non-null  uint8 \n",
      " 67  native_country_ Hungary                     48842 non-null  uint8 \n",
      " 68  native_country_ India                       48842 non-null  uint8 \n",
      " 69  native_country_ Iran                        48842 non-null  uint8 \n",
      " 70  native_country_ Ireland                     48842 non-null  uint8 \n",
      " 71  native_country_ Italy                       48842 non-null  uint8 \n",
      " 72  native_country_ Jamaica                     48842 non-null  uint8 \n",
      " 73  native_country_ Japan                       48842 non-null  uint8 \n",
      " 74  native_country_ Laos                        48842 non-null  uint8 \n",
      " 75  native_country_ Mexico                      48842 non-null  uint8 \n",
      " 76  native_country_ Nicaragua                   48842 non-null  uint8 \n",
      " 77  native_country_ Outlying-US(Guam-USVI-etc)  48842 non-null  uint8 \n",
      " 78  native_country_ Peru                        48842 non-null  uint8 \n",
      " 79  native_country_ Philippines                 48842 non-null  uint8 \n",
      " 80  native_country_ Poland                      48842 non-null  uint8 \n",
      " 81  native_country_ Portugal                    48842 non-null  uint8 \n",
      " 82  native_country_ Puerto-Rico                 48842 non-null  uint8 \n",
      " 83  native_country_ Scotland                    48842 non-null  uint8 \n",
      " 84  native_country_ South                       48842 non-null  uint8 \n",
      " 85  native_country_ Taiwan                      48842 non-null  uint8 \n",
      " 86  native_country_ Thailand                    48842 non-null  uint8 \n",
      " 87  native_country_ Trinadad&Tobago             48842 non-null  uint8 \n",
      " 88  native_country_ United-States               48842 non-null  uint8 \n",
      " 89  native_country_ Vietnam                     48842 non-null  uint8 \n",
      " 90  native_country_ Yugoslavia                  48842 non-null  uint8 \n",
      " 91  wage_class_ >50K                            48842 non-null  uint8 \n",
      "dtypes: int64(6), object(9), uint8(77)\n",
      "memory usage: 9.5+ MB\n"
     ]
    }
   ],
   "source": [
    "df.info()"
   ]
  },
  {
   "cell_type": "code",
   "execution_count": 25,
   "metadata": {},
   "outputs": [],
   "source": [
    "# drop unnecessory columns\n",
    "df.drop(['workclass','education','marital_status','occupation','relationship','race','sex','native_country','wage_class'],axis=1,inplace=True)"
   ]
  },
  {
   "cell_type": "code",
   "execution_count": 26,
   "metadata": {},
   "outputs": [
    {
     "name": "stdout",
     "output_type": "stream",
     "text": [
      "<class 'pandas.core.frame.DataFrame'>\n",
      "Int64Index: 48842 entries, 0 to 16280\n",
      "Data columns (total 83 columns):\n",
      " #   Column                                      Non-Null Count  Dtype\n",
      "---  ------                                      --------------  -----\n",
      " 0   age                                         48842 non-null  int64\n",
      " 1   fnlwgt                                      48842 non-null  int64\n",
      " 2   education_num                               48842 non-null  int64\n",
      " 3   capital_gain                                48842 non-null  int64\n",
      " 4   capital_loss                                48842 non-null  int64\n",
      " 5   hours_per_week                              48842 non-null  int64\n",
      " 6   workclass_ Local-gov                        48842 non-null  uint8\n",
      " 7   workclass_ Never-worked                     48842 non-null  uint8\n",
      " 8   workclass_ Private                          48842 non-null  uint8\n",
      " 9   workclass_ Self-emp-inc                     48842 non-null  uint8\n",
      " 10  workclass_ Self-emp-not-inc                 48842 non-null  uint8\n",
      " 11  workclass_ State-gov                        48842 non-null  uint8\n",
      " 12  workclass_ Without-pay                      48842 non-null  uint8\n",
      " 13  marital_ Married-AF-spouse                  48842 non-null  uint8\n",
      " 14  marital_ Married-civ-spouse                 48842 non-null  uint8\n",
      " 15  marital_ Married-spouse-absent              48842 non-null  uint8\n",
      " 16  marital_ Never-married                      48842 non-null  uint8\n",
      " 17  marital_ Separated                          48842 non-null  uint8\n",
      " 18  marital_ Widowed                            48842 non-null  uint8\n",
      " 19  occupation_ Armed-Forces                    48842 non-null  uint8\n",
      " 20  occupation_ Craft-repair                    48842 non-null  uint8\n",
      " 21  occupation_ Exec-managerial                 48842 non-null  uint8\n",
      " 22  occupation_ Farming-fishing                 48842 non-null  uint8\n",
      " 23  occupation_ Handlers-cleaners               48842 non-null  uint8\n",
      " 24  occupation_ Machine-op-inspct               48842 non-null  uint8\n",
      " 25  occupation_ Other-service                   48842 non-null  uint8\n",
      " 26  occupation_ Priv-house-serv                 48842 non-null  uint8\n",
      " 27  occupation_ Prof-specialty                  48842 non-null  uint8\n",
      " 28  occupation_ Protective-serv                 48842 non-null  uint8\n",
      " 29  occupation_ Sales                           48842 non-null  uint8\n",
      " 30  occupation_ Tech-support                    48842 non-null  uint8\n",
      " 31  occupation_ Transport-moving                48842 non-null  uint8\n",
      " 32  relationship_ Not-in-family                 48842 non-null  uint8\n",
      " 33  relationship_ Other-relative                48842 non-null  uint8\n",
      " 34  relationship_ Own-child                     48842 non-null  uint8\n",
      " 35  relationship_ Unmarried                     48842 non-null  uint8\n",
      " 36  relationship_ Wife                          48842 non-null  uint8\n",
      " 37  race_ Asian-Pac-Islander                    48842 non-null  uint8\n",
      " 38  race_ Black                                 48842 non-null  uint8\n",
      " 39  race_ Other                                 48842 non-null  uint8\n",
      " 40  race_ White                                 48842 non-null  uint8\n",
      " 41  sex_ Male                                   48842 non-null  uint8\n",
      " 42  native_country_ Canada                      48842 non-null  uint8\n",
      " 43  native_country_ China                       48842 non-null  uint8\n",
      " 44  native_country_ Columbia                    48842 non-null  uint8\n",
      " 45  native_country_ Cuba                        48842 non-null  uint8\n",
      " 46  native_country_ Dominican-Republic          48842 non-null  uint8\n",
      " 47  native_country_ Ecuador                     48842 non-null  uint8\n",
      " 48  native_country_ El-Salvador                 48842 non-null  uint8\n",
      " 49  native_country_ England                     48842 non-null  uint8\n",
      " 50  native_country_ France                      48842 non-null  uint8\n",
      " 51  native_country_ Germany                     48842 non-null  uint8\n",
      " 52  native_country_ Greece                      48842 non-null  uint8\n",
      " 53  native_country_ Guatemala                   48842 non-null  uint8\n",
      " 54  native_country_ Haiti                       48842 non-null  uint8\n",
      " 55  native_country_ Holand-Netherlands          48842 non-null  uint8\n",
      " 56  native_country_ Honduras                    48842 non-null  uint8\n",
      " 57  native_country_ Hong                        48842 non-null  uint8\n",
      " 58  native_country_ Hungary                     48842 non-null  uint8\n",
      " 59  native_country_ India                       48842 non-null  uint8\n",
      " 60  native_country_ Iran                        48842 non-null  uint8\n",
      " 61  native_country_ Ireland                     48842 non-null  uint8\n",
      " 62  native_country_ Italy                       48842 non-null  uint8\n",
      " 63  native_country_ Jamaica                     48842 non-null  uint8\n",
      " 64  native_country_ Japan                       48842 non-null  uint8\n",
      " 65  native_country_ Laos                        48842 non-null  uint8\n",
      " 66  native_country_ Mexico                      48842 non-null  uint8\n",
      " 67  native_country_ Nicaragua                   48842 non-null  uint8\n",
      " 68  native_country_ Outlying-US(Guam-USVI-etc)  48842 non-null  uint8\n",
      " 69  native_country_ Peru                        48842 non-null  uint8\n",
      " 70  native_country_ Philippines                 48842 non-null  uint8\n",
      " 71  native_country_ Poland                      48842 non-null  uint8\n",
      " 72  native_country_ Portugal                    48842 non-null  uint8\n",
      " 73  native_country_ Puerto-Rico                 48842 non-null  uint8\n",
      " 74  native_country_ Scotland                    48842 non-null  uint8\n",
      " 75  native_country_ South                       48842 non-null  uint8\n",
      " 76  native_country_ Taiwan                      48842 non-null  uint8\n",
      " 77  native_country_ Thailand                    48842 non-null  uint8\n",
      " 78  native_country_ Trinadad&Tobago             48842 non-null  uint8\n",
      " 79  native_country_ United-States               48842 non-null  uint8\n",
      " 80  native_country_ Vietnam                     48842 non-null  uint8\n",
      " 81  native_country_ Yugoslavia                  48842 non-null  uint8\n",
      " 82  wage_class_ >50K                            48842 non-null  uint8\n",
      "dtypes: int64(6), uint8(77)\n",
      "memory usage: 6.2 MB\n"
     ]
    }
   ],
   "source": [
    "df.info()"
   ]
  },
  {
   "cell_type": "code",
   "execution_count": 27,
   "metadata": {},
   "outputs": [],
   "source": [
    "# change the data type\n",
    "for i in df.columns:\n",
    "    df[i] = df[i].astype('int64')"
   ]
  },
  {
   "cell_type": "code",
   "execution_count": 28,
   "metadata": {},
   "outputs": [
    {
     "name": "stdout",
     "output_type": "stream",
     "text": [
      "<class 'pandas.core.frame.DataFrame'>\n",
      "Int64Index: 48842 entries, 0 to 16280\n",
      "Data columns (total 83 columns):\n",
      " #   Column                                      Non-Null Count  Dtype\n",
      "---  ------                                      --------------  -----\n",
      " 0   age                                         48842 non-null  int64\n",
      " 1   fnlwgt                                      48842 non-null  int64\n",
      " 2   education_num                               48842 non-null  int64\n",
      " 3   capital_gain                                48842 non-null  int64\n",
      " 4   capital_loss                                48842 non-null  int64\n",
      " 5   hours_per_week                              48842 non-null  int64\n",
      " 6   workclass_ Local-gov                        48842 non-null  int64\n",
      " 7   workclass_ Never-worked                     48842 non-null  int64\n",
      " 8   workclass_ Private                          48842 non-null  int64\n",
      " 9   workclass_ Self-emp-inc                     48842 non-null  int64\n",
      " 10  workclass_ Self-emp-not-inc                 48842 non-null  int64\n",
      " 11  workclass_ State-gov                        48842 non-null  int64\n",
      " 12  workclass_ Without-pay                      48842 non-null  int64\n",
      " 13  marital_ Married-AF-spouse                  48842 non-null  int64\n",
      " 14  marital_ Married-civ-spouse                 48842 non-null  int64\n",
      " 15  marital_ Married-spouse-absent              48842 non-null  int64\n",
      " 16  marital_ Never-married                      48842 non-null  int64\n",
      " 17  marital_ Separated                          48842 non-null  int64\n",
      " 18  marital_ Widowed                            48842 non-null  int64\n",
      " 19  occupation_ Armed-Forces                    48842 non-null  int64\n",
      " 20  occupation_ Craft-repair                    48842 non-null  int64\n",
      " 21  occupation_ Exec-managerial                 48842 non-null  int64\n",
      " 22  occupation_ Farming-fishing                 48842 non-null  int64\n",
      " 23  occupation_ Handlers-cleaners               48842 non-null  int64\n",
      " 24  occupation_ Machine-op-inspct               48842 non-null  int64\n",
      " 25  occupation_ Other-service                   48842 non-null  int64\n",
      " 26  occupation_ Priv-house-serv                 48842 non-null  int64\n",
      " 27  occupation_ Prof-specialty                  48842 non-null  int64\n",
      " 28  occupation_ Protective-serv                 48842 non-null  int64\n",
      " 29  occupation_ Sales                           48842 non-null  int64\n",
      " 30  occupation_ Tech-support                    48842 non-null  int64\n",
      " 31  occupation_ Transport-moving                48842 non-null  int64\n",
      " 32  relationship_ Not-in-family                 48842 non-null  int64\n",
      " 33  relationship_ Other-relative                48842 non-null  int64\n",
      " 34  relationship_ Own-child                     48842 non-null  int64\n",
      " 35  relationship_ Unmarried                     48842 non-null  int64\n",
      " 36  relationship_ Wife                          48842 non-null  int64\n",
      " 37  race_ Asian-Pac-Islander                    48842 non-null  int64\n",
      " 38  race_ Black                                 48842 non-null  int64\n",
      " 39  race_ Other                                 48842 non-null  int64\n",
      " 40  race_ White                                 48842 non-null  int64\n",
      " 41  sex_ Male                                   48842 non-null  int64\n",
      " 42  native_country_ Canada                      48842 non-null  int64\n",
      " 43  native_country_ China                       48842 non-null  int64\n",
      " 44  native_country_ Columbia                    48842 non-null  int64\n",
      " 45  native_country_ Cuba                        48842 non-null  int64\n",
      " 46  native_country_ Dominican-Republic          48842 non-null  int64\n",
      " 47  native_country_ Ecuador                     48842 non-null  int64\n",
      " 48  native_country_ El-Salvador                 48842 non-null  int64\n",
      " 49  native_country_ England                     48842 non-null  int64\n",
      " 50  native_country_ France                      48842 non-null  int64\n",
      " 51  native_country_ Germany                     48842 non-null  int64\n",
      " 52  native_country_ Greece                      48842 non-null  int64\n",
      " 53  native_country_ Guatemala                   48842 non-null  int64\n",
      " 54  native_country_ Haiti                       48842 non-null  int64\n",
      " 55  native_country_ Holand-Netherlands          48842 non-null  int64\n",
      " 56  native_country_ Honduras                    48842 non-null  int64\n",
      " 57  native_country_ Hong                        48842 non-null  int64\n",
      " 58  native_country_ Hungary                     48842 non-null  int64\n",
      " 59  native_country_ India                       48842 non-null  int64\n",
      " 60  native_country_ Iran                        48842 non-null  int64\n",
      " 61  native_country_ Ireland                     48842 non-null  int64\n",
      " 62  native_country_ Italy                       48842 non-null  int64\n",
      " 63  native_country_ Jamaica                     48842 non-null  int64\n",
      " 64  native_country_ Japan                       48842 non-null  int64\n",
      " 65  native_country_ Laos                        48842 non-null  int64\n",
      " 66  native_country_ Mexico                      48842 non-null  int64\n",
      " 67  native_country_ Nicaragua                   48842 non-null  int64\n",
      " 68  native_country_ Outlying-US(Guam-USVI-etc)  48842 non-null  int64\n",
      " 69  native_country_ Peru                        48842 non-null  int64\n",
      " 70  native_country_ Philippines                 48842 non-null  int64\n",
      " 71  native_country_ Poland                      48842 non-null  int64\n",
      " 72  native_country_ Portugal                    48842 non-null  int64\n",
      " 73  native_country_ Puerto-Rico                 48842 non-null  int64\n",
      " 74  native_country_ Scotland                    48842 non-null  int64\n",
      " 75  native_country_ South                       48842 non-null  int64\n",
      " 76  native_country_ Taiwan                      48842 non-null  int64\n",
      " 77  native_country_ Thailand                    48842 non-null  int64\n",
      " 78  native_country_ Trinadad&Tobago             48842 non-null  int64\n",
      " 79  native_country_ United-States               48842 non-null  int64\n",
      " 80  native_country_ Vietnam                     48842 non-null  int64\n",
      " 81  native_country_ Yugoslavia                  48842 non-null  int64\n",
      " 82  wage_class_ >50K                            48842 non-null  int64\n",
      "dtypes: int64(83)\n",
      "memory usage: 31.3 MB\n"
     ]
    }
   ],
   "source": [
    "df.info()"
   ]
  },
  {
   "cell_type": "code",
   "execution_count": 29,
   "metadata": {},
   "outputs": [],
   "source": [
    "x = df.drop(['wage_class_ >50K'],axis=1)\n",
    "y = df['wage_class_ >50K']"
   ]
  },
  {
   "cell_type": "code",
   "execution_count": 30,
   "metadata": {},
   "outputs": [
    {
     "data": {
      "text/html": [
       "<div>\n",
       "<style scoped>\n",
       "    .dataframe tbody tr th:only-of-type {\n",
       "        vertical-align: middle;\n",
       "    }\n",
       "\n",
       "    .dataframe tbody tr th {\n",
       "        vertical-align: top;\n",
       "    }\n",
       "\n",
       "    .dataframe thead th {\n",
       "        text-align: right;\n",
       "    }\n",
       "</style>\n",
       "<table border=\"1\" class=\"dataframe\">\n",
       "  <thead>\n",
       "    <tr style=\"text-align: right;\">\n",
       "      <th></th>\n",
       "      <th>age</th>\n",
       "      <th>fnlwgt</th>\n",
       "      <th>education_num</th>\n",
       "      <th>capital_gain</th>\n",
       "      <th>capital_loss</th>\n",
       "      <th>hours_per_week</th>\n",
       "      <th>workclass_ Local-gov</th>\n",
       "      <th>workclass_ Never-worked</th>\n",
       "      <th>workclass_ Private</th>\n",
       "      <th>workclass_ Self-emp-inc</th>\n",
       "      <th>...</th>\n",
       "      <th>native_country_ Portugal</th>\n",
       "      <th>native_country_ Puerto-Rico</th>\n",
       "      <th>native_country_ Scotland</th>\n",
       "      <th>native_country_ South</th>\n",
       "      <th>native_country_ Taiwan</th>\n",
       "      <th>native_country_ Thailand</th>\n",
       "      <th>native_country_ Trinadad&amp;Tobago</th>\n",
       "      <th>native_country_ United-States</th>\n",
       "      <th>native_country_ Vietnam</th>\n",
       "      <th>native_country_ Yugoslavia</th>\n",
       "    </tr>\n",
       "  </thead>\n",
       "  <tbody>\n",
       "    <tr>\n",
       "      <th>0</th>\n",
       "      <td>39</td>\n",
       "      <td>77516</td>\n",
       "      <td>13</td>\n",
       "      <td>2174</td>\n",
       "      <td>0</td>\n",
       "      <td>40</td>\n",
       "      <td>0</td>\n",
       "      <td>0</td>\n",
       "      <td>0</td>\n",
       "      <td>0</td>\n",
       "      <td>...</td>\n",
       "      <td>0</td>\n",
       "      <td>0</td>\n",
       "      <td>0</td>\n",
       "      <td>0</td>\n",
       "      <td>0</td>\n",
       "      <td>0</td>\n",
       "      <td>0</td>\n",
       "      <td>1</td>\n",
       "      <td>0</td>\n",
       "      <td>0</td>\n",
       "    </tr>\n",
       "    <tr>\n",
       "      <th>1</th>\n",
       "      <td>50</td>\n",
       "      <td>83311</td>\n",
       "      <td>13</td>\n",
       "      <td>0</td>\n",
       "      <td>0</td>\n",
       "      <td>13</td>\n",
       "      <td>0</td>\n",
       "      <td>0</td>\n",
       "      <td>0</td>\n",
       "      <td>0</td>\n",
       "      <td>...</td>\n",
       "      <td>0</td>\n",
       "      <td>0</td>\n",
       "      <td>0</td>\n",
       "      <td>0</td>\n",
       "      <td>0</td>\n",
       "      <td>0</td>\n",
       "      <td>0</td>\n",
       "      <td>1</td>\n",
       "      <td>0</td>\n",
       "      <td>0</td>\n",
       "    </tr>\n",
       "    <tr>\n",
       "      <th>2</th>\n",
       "      <td>38</td>\n",
       "      <td>215646</td>\n",
       "      <td>9</td>\n",
       "      <td>0</td>\n",
       "      <td>0</td>\n",
       "      <td>40</td>\n",
       "      <td>0</td>\n",
       "      <td>0</td>\n",
       "      <td>1</td>\n",
       "      <td>0</td>\n",
       "      <td>...</td>\n",
       "      <td>0</td>\n",
       "      <td>0</td>\n",
       "      <td>0</td>\n",
       "      <td>0</td>\n",
       "      <td>0</td>\n",
       "      <td>0</td>\n",
       "      <td>0</td>\n",
       "      <td>1</td>\n",
       "      <td>0</td>\n",
       "      <td>0</td>\n",
       "    </tr>\n",
       "    <tr>\n",
       "      <th>3</th>\n",
       "      <td>53</td>\n",
       "      <td>234721</td>\n",
       "      <td>7</td>\n",
       "      <td>0</td>\n",
       "      <td>0</td>\n",
       "      <td>40</td>\n",
       "      <td>0</td>\n",
       "      <td>0</td>\n",
       "      <td>1</td>\n",
       "      <td>0</td>\n",
       "      <td>...</td>\n",
       "      <td>0</td>\n",
       "      <td>0</td>\n",
       "      <td>0</td>\n",
       "      <td>0</td>\n",
       "      <td>0</td>\n",
       "      <td>0</td>\n",
       "      <td>0</td>\n",
       "      <td>1</td>\n",
       "      <td>0</td>\n",
       "      <td>0</td>\n",
       "    </tr>\n",
       "    <tr>\n",
       "      <th>4</th>\n",
       "      <td>28</td>\n",
       "      <td>338409</td>\n",
       "      <td>13</td>\n",
       "      <td>0</td>\n",
       "      <td>0</td>\n",
       "      <td>40</td>\n",
       "      <td>0</td>\n",
       "      <td>0</td>\n",
       "      <td>1</td>\n",
       "      <td>0</td>\n",
       "      <td>...</td>\n",
       "      <td>0</td>\n",
       "      <td>0</td>\n",
       "      <td>0</td>\n",
       "      <td>0</td>\n",
       "      <td>0</td>\n",
       "      <td>0</td>\n",
       "      <td>0</td>\n",
       "      <td>0</td>\n",
       "      <td>0</td>\n",
       "      <td>0</td>\n",
       "    </tr>\n",
       "    <tr>\n",
       "      <th>...</th>\n",
       "      <td>...</td>\n",
       "      <td>...</td>\n",
       "      <td>...</td>\n",
       "      <td>...</td>\n",
       "      <td>...</td>\n",
       "      <td>...</td>\n",
       "      <td>...</td>\n",
       "      <td>...</td>\n",
       "      <td>...</td>\n",
       "      <td>...</td>\n",
       "      <td>...</td>\n",
       "      <td>...</td>\n",
       "      <td>...</td>\n",
       "      <td>...</td>\n",
       "      <td>...</td>\n",
       "      <td>...</td>\n",
       "      <td>...</td>\n",
       "      <td>...</td>\n",
       "      <td>...</td>\n",
       "      <td>...</td>\n",
       "      <td>...</td>\n",
       "    </tr>\n",
       "    <tr>\n",
       "      <th>16276</th>\n",
       "      <td>39</td>\n",
       "      <td>215419</td>\n",
       "      <td>13</td>\n",
       "      <td>0</td>\n",
       "      <td>0</td>\n",
       "      <td>36</td>\n",
       "      <td>0</td>\n",
       "      <td>0</td>\n",
       "      <td>1</td>\n",
       "      <td>0</td>\n",
       "      <td>...</td>\n",
       "      <td>0</td>\n",
       "      <td>0</td>\n",
       "      <td>0</td>\n",
       "      <td>0</td>\n",
       "      <td>0</td>\n",
       "      <td>0</td>\n",
       "      <td>0</td>\n",
       "      <td>1</td>\n",
       "      <td>0</td>\n",
       "      <td>0</td>\n",
       "    </tr>\n",
       "    <tr>\n",
       "      <th>16277</th>\n",
       "      <td>64</td>\n",
       "      <td>321403</td>\n",
       "      <td>9</td>\n",
       "      <td>0</td>\n",
       "      <td>0</td>\n",
       "      <td>40</td>\n",
       "      <td>0</td>\n",
       "      <td>0</td>\n",
       "      <td>1</td>\n",
       "      <td>0</td>\n",
       "      <td>...</td>\n",
       "      <td>0</td>\n",
       "      <td>0</td>\n",
       "      <td>0</td>\n",
       "      <td>0</td>\n",
       "      <td>0</td>\n",
       "      <td>0</td>\n",
       "      <td>0</td>\n",
       "      <td>1</td>\n",
       "      <td>0</td>\n",
       "      <td>0</td>\n",
       "    </tr>\n",
       "    <tr>\n",
       "      <th>16278</th>\n",
       "      <td>38</td>\n",
       "      <td>374983</td>\n",
       "      <td>13</td>\n",
       "      <td>0</td>\n",
       "      <td>0</td>\n",
       "      <td>50</td>\n",
       "      <td>0</td>\n",
       "      <td>0</td>\n",
       "      <td>1</td>\n",
       "      <td>0</td>\n",
       "      <td>...</td>\n",
       "      <td>0</td>\n",
       "      <td>0</td>\n",
       "      <td>0</td>\n",
       "      <td>0</td>\n",
       "      <td>0</td>\n",
       "      <td>0</td>\n",
       "      <td>0</td>\n",
       "      <td>1</td>\n",
       "      <td>0</td>\n",
       "      <td>0</td>\n",
       "    </tr>\n",
       "    <tr>\n",
       "      <th>16279</th>\n",
       "      <td>44</td>\n",
       "      <td>83891</td>\n",
       "      <td>13</td>\n",
       "      <td>5455</td>\n",
       "      <td>0</td>\n",
       "      <td>40</td>\n",
       "      <td>0</td>\n",
       "      <td>0</td>\n",
       "      <td>1</td>\n",
       "      <td>0</td>\n",
       "      <td>...</td>\n",
       "      <td>0</td>\n",
       "      <td>0</td>\n",
       "      <td>0</td>\n",
       "      <td>0</td>\n",
       "      <td>0</td>\n",
       "      <td>0</td>\n",
       "      <td>0</td>\n",
       "      <td>1</td>\n",
       "      <td>0</td>\n",
       "      <td>0</td>\n",
       "    </tr>\n",
       "    <tr>\n",
       "      <th>16280</th>\n",
       "      <td>35</td>\n",
       "      <td>182148</td>\n",
       "      <td>13</td>\n",
       "      <td>0</td>\n",
       "      <td>0</td>\n",
       "      <td>60</td>\n",
       "      <td>0</td>\n",
       "      <td>0</td>\n",
       "      <td>0</td>\n",
       "      <td>1</td>\n",
       "      <td>...</td>\n",
       "      <td>0</td>\n",
       "      <td>0</td>\n",
       "      <td>0</td>\n",
       "      <td>0</td>\n",
       "      <td>0</td>\n",
       "      <td>0</td>\n",
       "      <td>0</td>\n",
       "      <td>1</td>\n",
       "      <td>0</td>\n",
       "      <td>0</td>\n",
       "    </tr>\n",
       "  </tbody>\n",
       "</table>\n",
       "<p>48842 rows × 82 columns</p>\n",
       "</div>"
      ],
      "text/plain": [
       "       age  fnlwgt  education_num  capital_gain  capital_loss  hours_per_week  \\\n",
       "0       39   77516             13          2174             0              40   \n",
       "1       50   83311             13             0             0              13   \n",
       "2       38  215646              9             0             0              40   \n",
       "3       53  234721              7             0             0              40   \n",
       "4       28  338409             13             0             0              40   \n",
       "...    ...     ...            ...           ...           ...             ...   \n",
       "16276   39  215419             13             0             0              36   \n",
       "16277   64  321403              9             0             0              40   \n",
       "16278   38  374983             13             0             0              50   \n",
       "16279   44   83891             13          5455             0              40   \n",
       "16280   35  182148             13             0             0              60   \n",
       "\n",
       "       workclass_ Local-gov  workclass_ Never-worked  workclass_ Private  \\\n",
       "0                         0                        0                   0   \n",
       "1                         0                        0                   0   \n",
       "2                         0                        0                   1   \n",
       "3                         0                        0                   1   \n",
       "4                         0                        0                   1   \n",
       "...                     ...                      ...                 ...   \n",
       "16276                     0                        0                   1   \n",
       "16277                     0                        0                   1   \n",
       "16278                     0                        0                   1   \n",
       "16279                     0                        0                   1   \n",
       "16280                     0                        0                   0   \n",
       "\n",
       "       workclass_ Self-emp-inc  ...  native_country_ Portugal  \\\n",
       "0                            0  ...                         0   \n",
       "1                            0  ...                         0   \n",
       "2                            0  ...                         0   \n",
       "3                            0  ...                         0   \n",
       "4                            0  ...                         0   \n",
       "...                        ...  ...                       ...   \n",
       "16276                        0  ...                         0   \n",
       "16277                        0  ...                         0   \n",
       "16278                        0  ...                         0   \n",
       "16279                        0  ...                         0   \n",
       "16280                        1  ...                         0   \n",
       "\n",
       "       native_country_ Puerto-Rico  native_country_ Scotland  \\\n",
       "0                                0                         0   \n",
       "1                                0                         0   \n",
       "2                                0                         0   \n",
       "3                                0                         0   \n",
       "4                                0                         0   \n",
       "...                            ...                       ...   \n",
       "16276                            0                         0   \n",
       "16277                            0                         0   \n",
       "16278                            0                         0   \n",
       "16279                            0                         0   \n",
       "16280                            0                         0   \n",
       "\n",
       "       native_country_ South  native_country_ Taiwan  \\\n",
       "0                          0                       0   \n",
       "1                          0                       0   \n",
       "2                          0                       0   \n",
       "3                          0                       0   \n",
       "4                          0                       0   \n",
       "...                      ...                     ...   \n",
       "16276                      0                       0   \n",
       "16277                      0                       0   \n",
       "16278                      0                       0   \n",
       "16279                      0                       0   \n",
       "16280                      0                       0   \n",
       "\n",
       "       native_country_ Thailand  native_country_ Trinadad&Tobago  \\\n",
       "0                             0                                0   \n",
       "1                             0                                0   \n",
       "2                             0                                0   \n",
       "3                             0                                0   \n",
       "4                             0                                0   \n",
       "...                         ...                              ...   \n",
       "16276                         0                                0   \n",
       "16277                         0                                0   \n",
       "16278                         0                                0   \n",
       "16279                         0                                0   \n",
       "16280                         0                                0   \n",
       "\n",
       "       native_country_ United-States  native_country_ Vietnam  \\\n",
       "0                                  1                        0   \n",
       "1                                  1                        0   \n",
       "2                                  1                        0   \n",
       "3                                  1                        0   \n",
       "4                                  0                        0   \n",
       "...                              ...                      ...   \n",
       "16276                              1                        0   \n",
       "16277                              1                        0   \n",
       "16278                              1                        0   \n",
       "16279                              1                        0   \n",
       "16280                              1                        0   \n",
       "\n",
       "       native_country_ Yugoslavia  \n",
       "0                               0  \n",
       "1                               0  \n",
       "2                               0  \n",
       "3                               0  \n",
       "4                               0  \n",
       "...                           ...  \n",
       "16276                           0  \n",
       "16277                           0  \n",
       "16278                           0  \n",
       "16279                           0  \n",
       "16280                           0  \n",
       "\n",
       "[48842 rows x 82 columns]"
      ]
     },
     "execution_count": 30,
     "metadata": {},
     "output_type": "execute_result"
    }
   ],
   "source": [
    "scaler = StandardScaler()\n",
    "x_scaled = scaler.fit_transform(x)\n",
    "x"
   ]
  },
  {
   "cell_type": "code",
   "execution_count": 31,
   "metadata": {},
   "outputs": [],
   "source": [
    "from sklearn.model_selection import train_test_split,cross_val_score,GridSearchCV\n",
    "from sklearn.metrics import accuracy_score,auc,classification_report,plot_precision_recall_curve,precision_score,roc_auc_score,roc_curve,confusion_matrix,f1_score,plot_confusion_matrix,plot_roc_curve,recall_score,precision_score\n",
    "from xgboost import XGBClassifier"
   ]
  },
  {
   "cell_type": "code",
   "execution_count": 32,
   "metadata": {},
   "outputs": [],
   "source": [
    "xtrain,xtest,ytrain,ytest = train_test_split(x_scaled,y,random_state=23)"
   ]
  },
  {
   "cell_type": "code",
   "execution_count": 33,
   "metadata": {},
   "outputs": [
    {
     "name": "stdout",
     "output_type": "stream",
     "text": [
      "xtrain shape (36631, 82)\n",
      "xtest shape (12211, 82)\n",
      "ytrain shape (36631,)\n",
      "ytest shape (12211,)\n"
     ]
    }
   ],
   "source": [
    "print('xtrain shape',xtrain.shape)\n",
    "print('xtest shape',xtest.shape)\n",
    "print('ytrain shape',ytrain.shape)\n",
    "print('ytest shape',ytest.shape)"
   ]
  },
  {
   "cell_type": "code",
   "execution_count": 34,
   "metadata": {},
   "outputs": [
    {
     "data": {
      "text/plain": [
       "XGBClassifier(base_score=0.5, booster='gbtree', colsample_bylevel=1,\n",
       "              colsample_bynode=1, colsample_bytree=1, gamma=0, gpu_id=-1,\n",
       "              importance_type='gain', interaction_constraints='',\n",
       "              learning_rate=0.300000012, max_delta_step=0, max_depth=6,\n",
       "              min_child_weight=1, missing=nan, monotone_constraints='()',\n",
       "              n_estimators=100, n_jobs=0, num_parallel_tree=1, random_state=0,\n",
       "              reg_alpha=0, reg_lambda=1, scale_pos_weight=1, subsample=1,\n",
       "              tree_method='exact', validate_parameters=1, verbosity=None)"
      ]
     },
     "execution_count": 34,
     "metadata": {},
     "output_type": "execute_result"
    }
   ],
   "source": [
    "clf = XGBClassifier()\n",
    "clf.fit(xtrain,ytrain)"
   ]
  },
  {
   "cell_type": "code",
   "execution_count": 35,
   "metadata": {},
   "outputs": [],
   "source": [
    "ytrain_pred = clf.predict(xtrain)\n",
    "ytest_pred = clf.predict(xtest)\n",
    "ytrain_proba = clf.predict_proba(xtrain)[:,1]\n",
    "ytest_proba = clf.predict_proba(xtest)[:,1]"
   ]
  },
  {
   "cell_type": "code",
   "execution_count": 36,
   "metadata": {},
   "outputs": [
    {
     "name": "stdout",
     "output_type": "stream",
     "text": [
      "accuracy score =  0.8722463352714765\n",
      "\n",
      " recall score =  0.6615384615384615\n",
      "\n",
      " precision score =  0.7830562153602534\n"
     ]
    }
   ],
   "source": [
    "print('accuracy score = ' , accuracy_score(ytest,ytest_pred))\n",
    "print('\\n recall score = ',recall_score(ytest,ytest_pred))\n",
    "print('\\n precision score = ',precision_score(ytest,ytest_pred))"
   ]
  },
  {
   "cell_type": "code",
   "execution_count": 37,
   "metadata": {},
   "outputs": [
    {
     "data": {
      "text/plain": [
       "array([[8673,  548],\n",
       "       [1012, 1978]], dtype=int64)"
      ]
     },
     "execution_count": 37,
     "metadata": {},
     "output_type": "execute_result"
    }
   ],
   "source": [
    "confusion_matrix(ytest,ytest_pred)"
   ]
  },
  {
   "cell_type": "code",
   "execution_count": 38,
   "metadata": {},
   "outputs": [
    {
     "data": {
      "text/plain": [
       "<sklearn.metrics._plot.confusion_matrix.ConfusionMatrixDisplay at 0x20baefe0e20>"
      ]
     },
     "execution_count": 38,
     "metadata": {},
     "output_type": "execute_result"
    },
    {
     "data": {
      "image/png": "[encoded data removed]",
      "text/plain": [
       "<Figure size 432x288 with 2 Axes>"
      ]
     },
     "metadata": {
      "needs_background": "light"
     },
     "output_type": "display_data"
    }
   ],
   "source": [
    "plot_confusion_matrix(clf,xtest,ytest)"
   ]
  },
  {
   "cell_type": "code",
   "execution_count": 39,
   "metadata": {},
   "outputs": [
    {
     "name": "stdout",
     "output_type": "stream",
     "text": [
      "              precision    recall  f1-score   support\n",
      "\n",
      "           0       0.90      0.94      0.92      9221\n",
      "           1       0.78      0.66      0.72      2990\n",
      "\n",
      "    accuracy                           0.87     12211\n",
      "   macro avg       0.84      0.80      0.82     12211\n",
      "weighted avg       0.87      0.87      0.87     12211\n",
      "\n"
     ]
    }
   ],
   "source": [
    "print(classification_report(ytest,ytest_pred))"
   ]
  },
  {
   "cell_type": "code",
   "execution_count": 40,
   "metadata": {},
   "outputs": [
    {
     "data": {
      "text/plain": [
       "Text(0.5, 1.0, 'ROC CURVE AREA 0.93')"
      ]
     },
     "execution_count": 40,
     "metadata": {},
     "output_type": "execute_result"
    },
    {
     "data": {
      "image/png": "[encoded data removed]",
      "text/plain": [
       "<Figure size 720x432 with 1 Axes>"
      ]
     },
     "metadata": {},
     "output_type": "display_data"
    }
   ],
   "source": [
    "fpr,tpr,threshold = roc_curve(ytest,ytest_proba)\n",
    "auc = roc_auc_score(ytest,ytest_proba)\n",
    "\n",
    "plt.style.use('fivethirtyeight')\n",
    "plt.figure(figsize=(10,6))\n",
    "plt.plot([0,1],[0,1],'r--')\n",
    "plt.plot(fpr,tpr,'y--',label='ROC CURVE')\n",
    "plt.xlabel('FPR')\n",
    "plt.ylabel('TPR')\n",
    "plt.title('ROC CURVE AREA {:.2f}'.format(auc))"
   ]
  },
  {
   "cell_type": "code",
   "execution_count": 41,
   "metadata": {},
   "outputs": [
    {
     "data": {
      "text/plain": [
       "<sklearn.metrics._plot.precision_recall_curve.PrecisionRecallDisplay at 0x20baf1a7550>"
      ]
     },
     "execution_count": 41,
     "metadata": {},
     "output_type": "execute_result"
    },
    {
     "data": {
      "image/png": "[encoded data removed]",
      "text/plain": [
       "<Figure size 432x288 with 1 Axes>"
      ]
     },
     "metadata": {},
     "output_type": "display_data"
    }
   ],
   "source": [
    "plot_precision_recall_curve(clf,xtest,ytest)"
   ]
  },
  {
   "cell_type": "code",
   "execution_count": 42,
   "metadata": {},
   "outputs": [],
   "source": [
    "import pickle\n",
    "pickle.dump(clf,open('xgboost_assignment.sav','wb'))\n",
    "pickle.dump(scaler,open('standard_scaler.sav','wb'))"
   ]
  },
  {
   "cell_type": "code",
   "execution_count": null,
   "metadata": {},
   "outputs": [],
   "source": []
  }
 ],
 "metadata": {
  "kernelspec": {
   "display_name": "Python 3",
   "language": "python",
   "name": "python3"
  },
  "language_info": {
   "codemirror_mode": {
    "name": "ipython",
    "version": 3
   },
   "file_extension": ".py",
   "mimetype": "text/x-python",
   "name": "python",
   "nbconvert_exporter": "python",
   "pygments_lexer": "ipython3",
   "version": "3.8.3"
  }
 },
 "nbformat": 4,
 "nbformat_minor": 4
}
